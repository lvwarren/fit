{
  "cells": [
    {
      "cell_type": "markdown",
      "metadata": {
        "id": "PRUvafntQJfz"
      },
      "source": [
        "# A Short Study in Under and Overfitting\n",
        "<pre>\n",
        "L. Van Warren, May 2018\n",
        "\n",
        "Skip to the last panel to use the application,\n",
        "the intermediate steps are for development, verification, and testing.\n",
        "</pre>"
      ]
    },
    {
      "cell_type": "code",
      "execution_count": 12,
      "metadata": {
        "id": "gvzaNE7fQJf4"
      },
      "outputs": [],
      "source": [
        "from ipywidgets import *\n",
        "import scipy as sp\n",
        "import matplotlib.pyplot as plt\n",
        "import numpy as np\n",
        "from sklearn.metrics import mean_squared_error\n",
        "from scipy.integrate import trapz, simps\n",
        "np.set_printoptions(precision=1)\n",
        "np.set_printoptions(suppress=True) # suppress scientific notation for small numbers\n",
        "%matplotlib inline\n"
      ]
    },
    {
      "cell_type": "code",
      "execution_count": 13,
      "metadata": {
        "colab": {
          "base_uri": "https://localhost:8080/"
        },
        "id": "nwmZC4bhQJf6",
        "outputId": "17c461e7-a965-4264-8dfb-2e0890332c44"
      },
      "outputs": [
        {
          "output_type": "stream",
          "name": "stdout",
          "text": [
            "0.6411200080598672\n",
            "0.5066382855582724\n"
          ]
        }
      ],
      "source": [
        "def f(u):  # This is our \"exact\" model of some real world behavior\n",
        "    return np.sin(6*u) + 3*u**2 - 2*(u)**3\n",
        "    # return 3*u**2 - 2*(u)**3  # exact fit for testing\n",
        "def F():   # The definite integral of f(u) between 0 and 1\n",
        "    return -(np.cos(6)-4)/6\n",
        "    # return 1/2                # exact fit for testing\n",
        "print(f(0.5))\n",
        "print(F()) # Variable gets integrated away in definite integral"
      ]
    },
    {
      "cell_type": "markdown",
      "metadata": {
        "id": "wsokDWzwQJf7"
      },
      "source": [
        "<b> f(u) represents some real world behavior.</b><br>\n",
        "We can plot this behavior\n",
        "and map it to the unit interval in y,\n",
        "making the assumption that the behavior is normalizeable.\n",
        "We normalize the data and compute the extrema for subsequent processing."
      ]
    },
    {
      "cell_type": "code",
      "execution_count": 14,
      "metadata": {
        "id": "R7Qt1JgAQJf8"
      },
      "outputs": [],
      "source": [
        "def gen_x():\n",
        "    return np.linspace(0, 1, 1025)"
      ]
    },
    {
      "cell_type": "code",
      "execution_count": 15,
      "metadata": {
        "id": "mkYO5gymQJf8"
      },
      "outputs": [],
      "source": [
        "def comp_behavior():\n",
        "    x = gen_x()\n",
        "    y = f(x)\n",
        "    y_min = y.min()\n",
        "    y_max = y.max()\n",
        "    y = (y-y_min)/(y_max-y_min) # map to unit interval\n",
        "    return x, y, y_min, y_max"
      ]
    },
    {
      "cell_type": "code",
      "execution_count": 16,
      "metadata": {
        "colab": {
          "base_uri": "https://localhost:8080/",
          "height": 288
        },
        "id": "osYT0jhRQJf9",
        "outputId": "8f2f997d-6166-4c60-e795-d2aa87968d5c"
      },
      "outputs": [
        {
          "output_type": "display_data",
          "data": {
            "image/png": "[encoded data removed]",
            "text/plain": [
              "<Figure size 432x288 with 1 Axes>"
            ]
          },
          "metadata": {
            "needs_background": "light"
          }
        }
      ],
      "source": [
        "def plot_real_behavior():\n",
        "    x, y, y_min, y_max = comp_behavior()\n",
        "    plt.ylim(y_min,y_max)\n",
        "    plt.plot(x, y,'r', lw=2, label='Real Behavior')\n",
        "    plt.tick_params(axis='both', which='major', labelsize=14)\n",
        "    plt.xlabel('x',fontsize=16,color='r')\n",
        "    plt.ylabel('f(x)',fontsize=16, color='r',rotation=0)\n",
        "    return y_min, y_max\n",
        "y_min, y_max = plot_real_behavior()\n",
        "plt.legend(loc='best',fontsize=14)\n",
        "plt.show()"
      ]
    },
    {
      "cell_type": "markdown",
      "metadata": {
        "id": "HNxOWqPuQJf-"
      },
      "source": [
        "<b> f(u) is a point sampled/measured with bounded noise.</b><br>\n",
        "We simulate the noise of real measurements and the process of discretely sampling a continuous real-world model. Of course our real-world model is also discrete, but it has so many more underlying samples it is psuedo-continuous and quite adequate for making our point.\n",
        "We seed the random number generator so we can the same result each time."
      ]
    },
    {
      "cell_type": "code",
      "execution_count": 29,
      "metadata": {
        "id": "FCma0r30QJf_"
      },
      "outputs": [],
      "source": [
        "def meas_behavior(noise_level, y_min, y_max, samples):\n",
        "    np.random.seed(42)\n",
        "    xS = np.linspace( 0.0, 1.0,  samples)\n",
        "    yS = f(xS) + noise_level*np.random.randn(len(xS))\n",
        "    yS = (yS-y_min)/(y_max-y_min) # map to unit interval\n",
        "    return xS, yS"
      ]
    },
    {
      "cell_type": "code",
      "execution_count": 30,
      "metadata": {
        "colab": {
          "base_uri": "https://localhost:8080/",
          "height": 288
        },
        "id": "WEhsFmzsQJf_",
        "outputId": "b04f70e8-d422-48ad-c11e-610262b978d5"
      },
      "outputs": [
        {
          "output_type": "display_data",
          "data": {
            "image/png": "[encoded data removed]",
            "text/plain": [
              "<Figure size 432x288 with 1 Axes>"
            ]
          },
          "metadata": {
            "needs_background": "light"
          }
        }
      ],
      "source": [
        "def plot_meas_behavior(noise_level, y_min, y_max, samples):\n",
        "    xS, yS = meas_behavior(noise_level, y_min, y_max, samples)\n",
        "    plt.plot(xS, yS, 'g.', ms=12, label='Measured with Noise')\n",
        "def plot_real_and_meas_behavior(noise_level, samples):\n",
        "    y_min, y_max = plot_real_behavior()\n",
        "    xS, yS = meas_behavior(noise_level, y_min, y_max, samples)\n",
        "    plot_meas_behavior(noise_level, y_min, y_max, samples)\n",
        "    return xS, yS\n",
        "xS, yS = plot_real_and_meas_behavior(0.15, 11)\n",
        "plt.legend(loc='best',fontsize=14)\n",
        "plt.show()"
      ]
    },
    {
      "cell_type": "code",
      "execution_count": 31,
      "metadata": {
        "colab": {
          "base_uri": "https://localhost:8080/",
          "height": 439,
          "referenced_widgets": [
            "f3e4e9ae75a545678b3eba3299853b24",
            "595272f48b7347d9ad735df3a0dad8f2",
            "40da93d2197f43fe833e5a1960902a53",
            "285db6fc84a04e65a62d713f5a203d71",
            "d79a8c8e1f6e4be7bccb3bcad13f8cbf",
            "9c3392953cc04608a94ffefdb90e8389",
            "e2bb12bb4a774e9aaf3bf2be04aadb10",
            "aa74590ed8254463a68e99831dbe6080",
            "b0201a9be1a841b5a1634b7fd0a43036",
            "b34dcf3a1b2b4c26a19b4c83cf417150"
          ]
        },
        "id": "B5DgXsr7QJgA",
        "outputId": "89a4a585-669e-4ebd-ca4d-436f37ea1322"
      },
      "outputs": [
        {
          "output_type": "display_data",
          "data": {
            "application/vnd.jupyter.widget-view+json": {
              "model_id": "f3e4e9ae75a545678b3eba3299853b24",
              "version_minor": 0,
              "version_major": 2
            },
            "text/plain": [
              "interactive(children=(FloatSlider(value=0.5, description='noise_level', max=1.0), IntSlider(value=25, descript…"
            ]
          },
          "metadata": {}
        }
      ],
      "source": [
        "interact(plot_real_and_meas_behavior, noise_level=(0.0,1,0.1), samples=(5,50,5));"
      ]
    },
    {
      "cell_type": "code",
      "execution_count": 33,
      "metadata": {
        "colab": {
          "base_uri": "https://localhost:8080/"
        },
        "id": "D-C5315_QJgA",
        "outputId": "4d73a037-2a2b-42b7-f0cb-ec16579743b5"
      },
      "outputs": [
        {
          "output_type": "stream",
          "name": "stdout",
          "text": [
            "0.5150795614863936\n",
            "0.5335806934698542\n"
          ]
        }
      ],
      "source": [
        "undr = 0\n",
        "over = 2\n",
        "def under_and_overfit(xS, yS, undr, over):\n",
        "    cU = np.polyfit(xS, yS, undr)\n",
        "    cO = np.polyfit(xS, yS, over)\n",
        "    pU = np.poly1d(cU)\n",
        "    pO = np.poly1d(cO)\n",
        "    return cU, cO, pU, pO\n",
        "\n",
        "cU, cO, pU, pO = under_and_overfit(xS, yS, undr, over)\n",
        "\n",
        "def eval_unit_integral(p):\n",
        "    x = gen_x()\n",
        "    y = p(x)\n",
        "    return(simps(y,x))  \n",
        "\n",
        "def eval_resi_integral(p):\n",
        "    x = gen_x()\n",
        "    y = f(x) - p(x)\n",
        "    return(simps(y,x))  \n",
        "\n",
        "print(eval_unit_integral(pU))\n",
        "print(eval_unit_integral(pO))\n"
      ]
    },
    {
      "cell_type": "code",
      "execution_count": 34,
      "metadata": {
        "colab": {
          "base_uri": "https://localhost:8080/",
          "height": 484
        },
        "id": "_Dr0GWQhQJgB",
        "outputId": "fb876b8e-fa2d-4618-d398-d75461daf3c8"
      },
      "outputs": [
        {
          "output_type": "display_data",
          "data": {
            "image/png": "[encoded data removed]",
            "text/plain": [
              "<Figure size 720x432 with 1 Axes>"
            ]
          },
          "metadata": {
            "needs_background": "light"
          }
        },
        {
          "output_type": "stream",
          "name": "stdout",
          "text": [
            "area under     true curve:  0.5066382855582724\n",
            "area under underfit curve:  0.5012889881481419\n",
            "area under  overfit curve:  0.518267330401013\n",
            "error in   underfit curve:   0.53%\n",
            "error in    overfit curve:  -1.16%\n"
          ]
        }
      ],
      "source": [
        "def plot_under_and_overfit(undr, over, noise_level, samples):\n",
        "    x, y, y_min, y_max = comp_behavior()\n",
        "    xS, yS = meas_behavior(noise_level, y_min, y_max, samples)\n",
        "    cU, cO, pU, pO = under_and_overfit(xS, yS, undr, over)\n",
        "    plt.figure(figsize=(10,6))\n",
        "    plt.ylim(y_min,y_max)\n",
        "    plt.plot(x, y,  'r', lw=4, label='real ')\n",
        "    plt.plot(xS, yS, 'g.', ms=12, label='samples')\n",
        "    plt.plot(x, pU(x), 'm', lw=2, label='underfit')\n",
        "    plt.plot(x, pO(x), 'k', lw=2, label='overfit')\n",
        "    plt.tick_params(axis='both', which='major', labelsize=14)\n",
        "    plt.xlabel('x',fontsize=16,color='r')\n",
        "    plt.ylabel('f(x)',fontsize=16, color='r',rotation=0)\n",
        "    plt.legend(loc='lower center',fontsize=14)\n",
        "    plt.show()\n",
        "    print(\"area under     true curve: \", F())\n",
        "    print(\"area under underfit curve: \", eval_unit_integral(pU))\n",
        "    print(\"area under  overfit curve: \", eval_unit_integral(pO))\n",
        "    print('error in   underfit curve: {:6.2f}%'.format(100*eval_resi_integral(pU)))\n",
        "    print('error in    overfit curve: {:6.2f}%'.format(100*eval_resi_integral(pO)))\n",
        "plot_under_and_overfit(undr, over, 0.1, 11)"
      ]
    },
    {
      "cell_type": "code",
      "execution_count": 35,
      "metadata": {
        "colab": {
          "base_uri": "https://localhost:8080/",
          "height": 612,
          "referenced_widgets": [
            "8ecf496d126a4ce2897acec6aecae89f",
            "fc90d3f8776f43048dfee0caa8a56e95",
            "48c605be65454dc585c1a6c0e685c642",
            "3f67e2e40b2843d1bb7fc65a2add32bf",
            "585954343d994945aa1e3be8f04261fa",
            "3d01767182274c40b9fd2832b96a3ffe",
            "6ea07386ca534cd19d3ca4aa08fa6a68",
            "44f880ae98ce48d297ddfedff39a5a96",
            "710bcb2bd1b84f98860b48a4b85e6740",
            "6752c3a31fa1417ea6ae962c9f273ee1",
            "f0c743ab27994704b68271f57e6d2078",
            "46d1519684f34ce2b48079b74c4a7af8",
            "321c7903d601434bb0d8ae38aa7b2512",
            "5459d44801044476a9ca8e1f7c03fbd6",
            "8e47339093524463bd16c3ee833b9872",
            "34cd1b20bc434c06b45c1366b8188c5f"
          ]
        },
        "id": "f1jBSVseQJgC",
        "outputId": "2129b6ed-f8cf-4f11-cb6d-1a2159cd47a1"
      },
      "outputs": [
        {
          "output_type": "display_data",
          "data": {
            "application/vnd.jupyter.widget-view+json": {
              "model_id": "8ecf496d126a4ce2897acec6aecae89f",
              "version_minor": 0,
              "version_major": 2
            },
            "text/plain": [
              "interactive(children=(IntSlider(value=5, description='undr', max=10), IntSlider(value=9, description='over', m…"
            ]
          },
          "metadata": {}
        }
      ],
      "source": [
        "interact(plot_under_and_overfit, undr=(0,10,1),\n",
        "                                 over=(1,18,1),\n",
        "                                 noise_level=(0.0,1.0,0.05),\n",
        "                                 samples=(8,64,4));"
      ]
    },
    {
      "cell_type": "code",
      "source": [
        ""
      ],
      "metadata": {
        "id": "LCNlnboIQ6Yc"
      },
      "execution_count": null,
      "outputs": []
    }
  ],
  "metadata": {
    "kernelspec": {
      "display_name": "Python 3",
      "language": "python",
      "name": "python3"
    },
    "language_info": {
      "codemirror_mode": {
        "name": "ipython",
        "version": 3
      },
      "file_extension": ".py",
      "mimetype": "text/x-python",
      "name": "python",
      "nbconvert_exporter": "python",
      "pygments_lexer": "ipython3",
      "version": "3.6.2"
    },
    "colab": {
      "name": "fit.ipynb",
      "provenance": []
    },
    "widgets": {
      "application/vnd.jupyter.widget-state+json": {
        "f3e4e9ae75a545678b3eba3299853b24": {
          "model_module": "@jupyter-widgets/controls",
          "model_name": "VBoxModel",
          "model_module_version": "1.5.0",
          "state": {
            "_view_name": "VBoxView",
            "_dom_classes": [
              "widget-interact"
            ],
            "_model_name": "VBoxModel",
            "_view_module": "@jupyter-widgets/controls",
            "_model_module_version": "1.5.0",
            "_view_count": null,
            "_view_module_version": "1.5.0",
            "box_style": "",
            "layout": "IPY_MODEL_595272f48b7347d9ad735df3a0dad8f2",
            "_model_module": "@jupyter-widgets/controls",
            "children": [
              "IPY_MODEL_40da93d2197f43fe833e5a1960902a53",
              "IPY_MODEL_285db6fc84a04e65a62d713f5a203d71",
              "IPY_MODEL_d79a8c8e1f6e4be7bccb3bcad13f8cbf"
            ]
          }
        },
        "595272f48b7347d9ad735df3a0dad8f2": {
          "model_module": "@jupyter-widgets/base",
          "model_name": "LayoutModel",
          "model_module_version": "1.2.0",
          "state": {
            "_view_name": "LayoutView",
            "grid_template_rows": null,
            "right": null,
            "justify_content": null,
            "_view_module": "@jupyter-widgets/base",
            "overflow": null,
            "_model_module_version": "1.2.0",
            "_view_count": null,
            "flex_flow": null,
            "width": null,
            "min_width": null,
            "border": null,
            "align_items": null,
            "bottom": null,
            "_model_module": "@jupyter-widgets/base",
            "top": null,
            "grid_column": null,
            "overflow_y": null,
            "overflow_x": null,
            "grid_auto_flow": null,
            "grid_area": null,
            "grid_template_columns": null,
            "flex": null,
            "_model_name": "LayoutModel",
            "justify_items": null,
            "grid_row": null,
            "max_height": null,
            "align_content": null,
            "visibility": null,
            "align_self": null,
            "height": null,
            "min_height": null,
            "padding": null,
            "grid_auto_rows": null,
            "grid_gap": null,
            "max_width": null,
            "order": null,
            "_view_module_version": "1.2.0",
            "grid_template_areas": null,
            "object_position": null,
            "object_fit": null,
            "grid_auto_columns": null,
            "margin": null,
            "display": null,
            "left": null
          }
        },
        "40da93d2197f43fe833e5a1960902a53": {
          "model_module": "@jupyter-widgets/controls",
          "model_name": "FloatSliderModel",
          "model_module_version": "1.5.0",
          "state": {
            "_view_name": "FloatSliderView",
            "style": "IPY_MODEL_9c3392953cc04608a94ffefdb90e8389",
            "_dom_classes": [],
            "description": "noise_level",
            "step": 0.1,
            "_model_name": "FloatSliderModel",
            "orientation": "horizontal",
            "max": 1,
            "_view_module": "@jupyter-widgets/controls",
            "_model_module_version": "1.5.0",
            "value": 0.5,
            "_view_count": null,
            "disabled": false,
            "_view_module_version": "1.5.0",
            "min": 0,
            "continuous_update": true,
            "readout_format": ".2f",
            "description_tooltip": null,
            "readout": true,
            "_model_module": "@jupyter-widgets/controls",
            "layout": "IPY_MODEL_e2bb12bb4a774e9aaf3bf2be04aadb10"
          }
        },
        "285db6fc84a04e65a62d713f5a203d71": {
          "model_module": "@jupyter-widgets/controls",
          "model_name": "IntSliderModel",
          "model_module_version": "1.5.0",
          "state": {
            "_view_name": "IntSliderView",
            "style": "IPY_MODEL_aa74590ed8254463a68e99831dbe6080",
            "_dom_classes": [],
            "description": "samples",
            "step": 5,
            "_model_name": "IntSliderModel",
            "orientation": "horizontal",
            "max": 50,
            "_view_module": "@jupyter-widgets/controls",
            "_model_module_version": "1.5.0",
            "value": 25,
            "_view_count": null,
            "disabled": false,
            "_view_module_version": "1.5.0",
            "min": 5,
            "continuous_update": true,
            "readout_format": "d",
            "description_tooltip": null,
            "readout": true,
            "_model_module": "@jupyter-widgets/controls",
            "layout": "IPY_MODEL_b0201a9be1a841b5a1634b7fd0a43036"
          }
        },
        "d79a8c8e1f6e4be7bccb3bcad13f8cbf": {
          "model_module": "@jupyter-widgets/output",
          "model_name": "OutputModel",
          "model_module_version": "1.0.0",
          "state": {
            "_view_name": "OutputView",
            "msg_id": "",
            "_dom_classes": [],
            "_model_name": "OutputModel",
            "outputs": [
              {
                "output_type": "display_data",
                "data": {
                  "image/png": "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\n",
                  "text/plain": "<Figure size 432x288 with 1 Axes>"
                },
                "metadata": {
                  "needs_background": "light"
                }
              },
              {
                "output_type": "display_data",
                "data": {
                  "text/plain": "(array([0. , 0. , 0.1, 0.1, 0.2, 0.2, 0.2, 0.3, 0.3, 0.4, 0.4, 0.5, 0.5,\n        0.5, 0.6, 0.6, 0.7, 0.7, 0.8, 0.8, 0.8, 0.9, 0.9, 1. , 1. ]),\n array([ 0.3,  0.2,  0.7,  1.2,  0.7,  0.8,  1.6,  1.3,  0.8,  1.1,  0.7,\n         0.5,  0.7, -0.3, -0.3, -0. , -0.3,  0.1, -0.3, -0.5,  0.6,  0.1,\n         0.3, -0.1,  0.4]))"
                },
                "metadata": {}
              }
            ],
            "_view_module": "@jupyter-widgets/output",
            "_model_module_version": "1.0.0",
            "_view_count": null,
            "_view_module_version": "1.0.0",
            "layout": "IPY_MODEL_b34dcf3a1b2b4c26a19b4c83cf417150",
            "_model_module": "@jupyter-widgets/output"
          }
        },
        "9c3392953cc04608a94ffefdb90e8389": {
          "model_module": "@jupyter-widgets/controls",
          "model_name": "SliderStyleModel",
          "model_module_version": "1.5.0",
          "state": {
            "_view_name": "StyleView",
            "handle_color": null,
            "_model_name": "SliderStyleModel",
            "description_width": "",
            "_view_module": "@jupyter-widgets/base",
            "_model_module_version": "1.5.0",
            "_view_count": null,
            "_view_module_version": "1.2.0",
            "_model_module": "@jupyter-widgets/controls"
          }
        },
        "e2bb12bb4a774e9aaf3bf2be04aadb10": {
          "model_module": "@jupyter-widgets/base",
          "model_name": "LayoutModel",
          "model_module_version": "1.2.0",
          "state": {
            "_view_name": "LayoutView",
            "grid_template_rows": null,
            "right": null,
            "justify_content": null,
            "_view_module": "@jupyter-widgets/base",
            "overflow": null,
            "_model_module_version": "1.2.0",
            "_view_count": null,
            "flex_flow": null,
            "width": null,
            "min_width": null,
            "border": null,
            "align_items": null,
            "bottom": null,
            "_model_module": "@jupyter-widgets/base",
            "top": null,
            "grid_column": null,
            "overflow_y": null,
            "overflow_x": null,
            "grid_auto_flow": null,
            "grid_area": null,
            "grid_template_columns": null,
            "flex": null,
            "_model_name": "LayoutModel",
            "justify_items": null,
            "grid_row": null,
            "max_height": null,
            "align_content": null,
            "visibility": null,
            "align_self": null,
            "height": null,
            "min_height": null,
            "padding": null,
            "grid_auto_rows": null,
            "grid_gap": null,
            "max_width": null,
            "order": null,
            "_view_module_version": "1.2.0",
            "grid_template_areas": null,
            "object_position": null,
            "object_fit": null,
            "grid_auto_columns": null,
            "margin": null,
            "display": null,
            "left": null
          }
        },
        "aa74590ed8254463a68e99831dbe6080": {
          "model_module": "@jupyter-widgets/controls",
          "model_name": "SliderStyleModel",
          "model_module_version": "1.5.0",
          "state": {
            "_view_name": "StyleView",
            "handle_color": null,
            "_model_name": "SliderStyleModel",
            "description_width": "",
            "_view_module": "@jupyter-widgets/base",
            "_model_module_version": "1.5.0",
            "_view_count": null,
            "_view_module_version": "1.2.0",
            "_model_module": "@jupyter-widgets/controls"
          }
        },
        "b0201a9be1a841b5a1634b7fd0a43036": {
          "model_module": "@jupyter-widgets/base",
          "model_name": "LayoutModel",
          "model_module_version": "1.2.0",
          "state": {
            "_view_name": "LayoutView",
            "grid_template_rows": null,
            "right": null,
            "justify_content": null,
            "_view_module": "@jupyter-widgets/base",
            "overflow": null,
            "_model_module_version": "1.2.0",
            "_view_count": null,
            "flex_flow": null,
            "width": null,
            "min_width": null,
            "border": null,
            "align_items": null,
            "bottom": null,
            "_model_module": "@jupyter-widgets/base",
            "top": null,
            "grid_column": null,
            "overflow_y": null,
            "overflow_x": null,
            "grid_auto_flow": null,
            "grid_area": null,
            "grid_template_columns": null,
            "flex": null,
            "_model_name": "LayoutModel",
            "justify_items": null,
            "grid_row": null,
            "max_height": null,
            "align_content": null,
            "visibility": null,
            "align_self": null,
            "height": null,
            "min_height": null,
            "padding": null,
            "grid_auto_rows": null,
            "grid_gap": null,
            "max_width": null,
            "order": null,
            "_view_module_version": "1.2.0",
            "grid_template_areas": null,
            "object_position": null,
            "object_fit": null,
            "grid_auto_columns": null,
            "margin": null,
            "display": null,
            "left": null
          }
        },
        "b34dcf3a1b2b4c26a19b4c83cf417150": {
          "model_module": "@jupyter-widgets/base",
          "model_name": "LayoutModel",
          "model_module_version": "1.2.0",
          "state": {
            "_view_name": "LayoutView",
            "grid_template_rows": null,
            "right": null,
            "justify_content": null,
            "_view_module": "@jupyter-widgets/base",
            "overflow": null,
            "_model_module_version": "1.2.0",
            "_view_count": null,
            "flex_flow": null,
            "width": null,
            "min_width": null,
            "border": null,
            "align_items": null,
            "bottom": null,
            "_model_module": "@jupyter-widgets/base",
            "top": null,
            "grid_column": null,
            "overflow_y": null,
            "overflow_x": null,
            "grid_auto_flow": null,
            "grid_area": null,
            "grid_template_columns": null,
            "flex": null,
            "_model_name": "LayoutModel",
            "justify_items": null,
            "grid_row": null,
            "max_height": null,
            "align_content": null,
            "visibility": null,
            "align_self": null,
            "height": null,
            "min_height": null,
            "padding": null,
            "grid_auto_rows": null,
            "grid_gap": null,
            "max_width": null,
            "order": null,
            "_view_module_version": "1.2.0",
            "grid_template_areas": null,
            "object_position": null,
            "object_fit": null,
            "grid_auto_columns": null,
            "margin": null,
            "display": null,
            "left": null
          }
        },
        "8ecf496d126a4ce2897acec6aecae89f": {
          "model_module": "@jupyter-widgets/controls",
          "model_name": "VBoxModel",
          "model_module_version": "1.5.0",
          "state": {
            "_view_name": "VBoxView",
            "_dom_classes": [
              "widget-interact"
            ],
            "_model_name": "VBoxModel",
            "_view_module": "@jupyter-widgets/controls",
            "_model_module_version": "1.5.0",
            "_view_count": null,
            "_view_module_version": "1.5.0",
            "box_style": "",
            "layout": "IPY_MODEL_fc90d3f8776f43048dfee0caa8a56e95",
            "_model_module": "@jupyter-widgets/controls",
            "children": [
              "IPY_MODEL_48c605be65454dc585c1a6c0e685c642",
              "IPY_MODEL_3f67e2e40b2843d1bb7fc65a2add32bf",
              "IPY_MODEL_585954343d994945aa1e3be8f04261fa",
              "IPY_MODEL_3d01767182274c40b9fd2832b96a3ffe",
              "IPY_MODEL_6ea07386ca534cd19d3ca4aa08fa6a68"
            ]
          }
        },
        "fc90d3f8776f43048dfee0caa8a56e95": {
          "model_module": "@jupyter-widgets/base",
          "model_name": "LayoutModel",
          "model_module_version": "1.2.0",
          "state": {
            "_view_name": "LayoutView",
            "grid_template_rows": null,
            "right": null,
            "justify_content": null,
            "_view_module": "@jupyter-widgets/base",
            "overflow": null,
            "_model_module_version": "1.2.0",
            "_view_count": null,
            "flex_flow": null,
            "width": null,
            "min_width": null,
            "border": null,
            "align_items": null,
            "bottom": null,
            "_model_module": "@jupyter-widgets/base",
            "top": null,
            "grid_column": null,
            "overflow_y": null,
            "overflow_x": null,
            "grid_auto_flow": null,
            "grid_area": null,
            "grid_template_columns": null,
            "flex": null,
            "_model_name": "LayoutModel",
            "justify_items": null,
            "grid_row": null,
            "max_height": null,
            "align_content": null,
            "visibility": null,
            "align_self": null,
            "height": null,
            "min_height": null,
            "padding": null,
            "grid_auto_rows": null,
            "grid_gap": null,
            "max_width": null,
            "order": null,
            "_view_module_version": "1.2.0",
            "grid_template_areas": null,
            "object_position": null,
            "object_fit": null,
            "grid_auto_columns": null,
            "margin": null,
            "display": null,
            "left": null
          }
        },
        "48c605be65454dc585c1a6c0e685c642": {
          "model_module": "@jupyter-widgets/controls",
          "model_name": "IntSliderModel",
          "model_module_version": "1.5.0",
          "state": {
            "_view_name": "IntSliderView",
            "style": "IPY_MODEL_44f880ae98ce48d297ddfedff39a5a96",
            "_dom_classes": [],
            "description": "undr",
            "step": 1,
            "_model_name": "IntSliderModel",
            "orientation": "horizontal",
            "max": 10,
            "_view_module": "@jupyter-widgets/controls",
            "_model_module_version": "1.5.0",
            "value": 3,
            "_view_count": null,
            "disabled": false,
            "_view_module_version": "1.5.0",
            "min": 0,
            "continuous_update": true,
            "readout_format": "d",
            "description_tooltip": null,
            "readout": true,
            "_model_module": "@jupyter-widgets/controls",
            "layout": "IPY_MODEL_710bcb2bd1b84f98860b48a4b85e6740"
          }
        },
        "3f67e2e40b2843d1bb7fc65a2add32bf": {
          "model_module": "@jupyter-widgets/controls",
          "model_name": "IntSliderModel",
          "model_module_version": "1.5.0",
          "state": {
            "_view_name": "IntSliderView",
            "style": "IPY_MODEL_6752c3a31fa1417ea6ae962c9f273ee1",
            "_dom_classes": [],
            "description": "over",
            "step": 1,
            "_model_name": "IntSliderModel",
            "orientation": "horizontal",
            "max": 18,
            "_view_module": "@jupyter-widgets/controls",
            "_model_module_version": "1.5.0",
            "value": 4,
            "_view_count": null,
            "disabled": false,
            "_view_module_version": "1.5.0",
            "min": 1,
            "continuous_update": true,
            "readout_format": "d",
            "description_tooltip": null,
            "readout": true,
            "_model_module": "@jupyter-widgets/controls",
            "layout": "IPY_MODEL_f0c743ab27994704b68271f57e6d2078"
          }
        },
        "585954343d994945aa1e3be8f04261fa": {
          "model_module": "@jupyter-widgets/controls",
          "model_name": "FloatSliderModel",
          "model_module_version": "1.5.0",
          "state": {
            "_view_name": "FloatSliderView",
            "style": "IPY_MODEL_46d1519684f34ce2b48079b74c4a7af8",
            "_dom_classes": [],
            "description": "noise_level",
            "step": 0.05,
            "_model_name": "FloatSliderModel",
            "orientation": "horizontal",
            "max": 1,
            "_view_module": "@jupyter-widgets/controls",
            "_model_module_version": "1.5.0",
            "value": 0.1,
            "_view_count": null,
            "disabled": false,
            "_view_module_version": "1.5.0",
            "min": 0,
            "continuous_update": true,
            "readout_format": ".2f",
            "description_tooltip": null,
            "readout": true,
            "_model_module": "@jupyter-widgets/controls",
            "layout": "IPY_MODEL_321c7903d601434bb0d8ae38aa7b2512"
          }
        },
        "3d01767182274c40b9fd2832b96a3ffe": {
          "model_module": "@jupyter-widgets/controls",
          "model_name": "IntSliderModel",
          "model_module_version": "1.5.0",
          "state": {
            "_view_name": "IntSliderView",
            "style": "IPY_MODEL_5459d44801044476a9ca8e1f7c03fbd6",
            "_dom_classes": [],
            "description": "samples",
            "step": 4,
            "_model_name": "IntSliderModel",
            "orientation": "horizontal",
            "max": 64,
            "_view_module": "@jupyter-widgets/controls",
            "_model_module_version": "1.5.0",
            "value": 12,
            "_view_count": null,
            "disabled": false,
            "_view_module_version": "1.5.0",
            "min": 8,
            "continuous_update": true,
            "readout_format": "d",
            "description_tooltip": null,
            "readout": true,
            "_model_module": "@jupyter-widgets/controls",
            "layout": "IPY_MODEL_8e47339093524463bd16c3ee833b9872"
          }
        },
        "6ea07386ca534cd19d3ca4aa08fa6a68": {
          "model_module": "@jupyter-widgets/output",
          "model_name": "OutputModel",
          "model_module_version": "1.0.0",
          "state": {
            "_view_name": "OutputView",
            "msg_id": "",
            "_dom_classes": [],
            "_model_name": "OutputModel",
            "outputs": [
              {
                "output_type": "display_data",
                "data": {
                  "image/png": "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\n",
                  "text/plain": "<Figure size 720x432 with 1 Axes>"
                },
                "metadata": {
                  "needs_background": "light"
                }
              },
              {
                "output_type": "stream",
                "name": "stdout",
                "text": [
                  "area under     true curve:  0.5066382855582724\n",
                  "area under underfit curve:  0.5129207375914909\n",
                  "area under  overfit curve:  0.5087967800528412\n",
                  "error in   underfit curve:  -0.63%\n",
                  "error in    overfit curve:  -0.22%\n"
                ]
              }
            ],
            "_view_module": "@jupyter-widgets/output",
            "_model_module_version": "1.0.0",
            "_view_count": null,
            "_view_module_version": "1.0.0",
            "layout": "IPY_MODEL_34cd1b20bc434c06b45c1366b8188c5f",
            "_model_module": "@jupyter-widgets/output"
          }
        },
        "44f880ae98ce48d297ddfedff39a5a96": {
          "model_module": "@jupyter-widgets/controls",
          "model_name": "SliderStyleModel",
          "model_module_version": "1.5.0",
          "state": {
            "_view_name": "StyleView",
            "handle_color": null,
            "_model_name": "SliderStyleModel",
            "description_width": "",
            "_view_module": "@jupyter-widgets/base",
            "_model_module_version": "1.5.0",
            "_view_count": null,
            "_view_module_version": "1.2.0",
            "_model_module": "@jupyter-widgets/controls"
          }
        },
        "710bcb2bd1b84f98860b48a4b85e6740": {
          "model_module": "@jupyter-widgets/base",
          "model_name": "LayoutModel",
          "model_module_version": "1.2.0",
          "state": {
            "_view_name": "LayoutView",
            "grid_template_rows": null,
            "right": null,
            "justify_content": null,
            "_view_module": "@jupyter-widgets/base",
            "overflow": null,
            "_model_module_version": "1.2.0",
            "_view_count": null,
            "flex_flow": null,
            "width": null,
            "min_width": null,
            "border": null,
            "align_items": null,
            "bottom": null,
            "_model_module": "@jupyter-widgets/base",
            "top": null,
            "grid_column": null,
            "overflow_y": null,
            "overflow_x": null,
            "grid_auto_flow": null,
            "grid_area": null,
            "grid_template_columns": null,
            "flex": null,
            "_model_name": "LayoutModel",
            "justify_items": null,
            "grid_row": null,
            "max_height": null,
            "align_content": null,
            "visibility": null,
            "align_self": null,
            "height": null,
            "min_height": null,
            "padding": null,
            "grid_auto_rows": null,
            "grid_gap": null,
            "max_width": null,
            "order": null,
            "_view_module_version": "1.2.0",
            "grid_template_areas": null,
            "object_position": null,
            "object_fit": null,
            "grid_auto_columns": null,
            "margin": null,
            "display": null,
            "left": null
          }
        },
        "6752c3a31fa1417ea6ae962c9f273ee1": {
          "model_module": "@jupyter-widgets/controls",
          "model_name": "SliderStyleModel",
          "model_module_version": "1.5.0",
          "state": {
            "_view_name": "StyleView",
            "handle_color": null,
            "_model_name": "SliderStyleModel",
            "description_width": "",
            "_view_module": "@jupyter-widgets/base",
            "_model_module_version": "1.5.0",
            "_view_count": null,
            "_view_module_version": "1.2.0",
            "_model_module": "@jupyter-widgets/controls"
          }
        },
        "f0c743ab27994704b68271f57e6d2078": {
          "model_module": "@jupyter-widgets/base",
          "model_name": "LayoutModel",
          "model_module_version": "1.2.0",
          "state": {
            "_view_name": "LayoutView",
            "grid_template_rows": null,
            "right": null,
            "justify_content": null,
            "_view_module": "@jupyter-widgets/base",
            "overflow": null,
            "_model_module_version": "1.2.0",
            "_view_count": null,
            "flex_flow": null,
            "width": null,
            "min_width": null,
            "border": null,
            "align_items": null,
            "bottom": null,
            "_model_module": "@jupyter-widgets/base",
            "top": null,
            "grid_column": null,
            "overflow_y": null,
            "overflow_x": null,
            "grid_auto_flow": null,
            "grid_area": null,
            "grid_template_columns": null,
            "flex": null,
            "_model_name": "LayoutModel",
            "justify_items": null,
            "grid_row": null,
            "max_height": null,
            "align_content": null,
            "visibility": null,
            "align_self": null,
            "height": null,
            "min_height": null,
            "padding": null,
            "grid_auto_rows": null,
            "grid_gap": null,
            "max_width": null,
            "order": null,
            "_view_module_version": "1.2.0",
            "grid_template_areas": null,
            "object_position": null,
            "object_fit": null,
            "grid_auto_columns": null,
            "margin": null,
            "display": null,
            "left": null
          }
        },
        "46d1519684f34ce2b48079b74c4a7af8": {
          "model_module": "@jupyter-widgets/controls",
          "model_name": "SliderStyleModel",
          "model_module_version": "1.5.0",
          "state": {
            "_view_name": "StyleView",
            "handle_color": null,
            "_model_name": "SliderStyleModel",
            "description_width": "",
            "_view_module": "@jupyter-widgets/base",
            "_model_module_version": "1.5.0",
            "_view_count": null,
            "_view_module_version": "1.2.0",
            "_model_module": "@jupyter-widgets/controls"
          }
        },
        "321c7903d601434bb0d8ae38aa7b2512": {
          "model_module": "@jupyter-widgets/base",
          "model_name": "LayoutModel",
          "model_module_version": "1.2.0",
          "state": {
            "_view_name": "LayoutView",
            "grid_template_rows": null,
            "right": null,
            "justify_content": null,
            "_view_module": "@jupyter-widgets/base",
            "overflow": null,
            "_model_module_version": "1.2.0",
            "_view_count": null,
            "flex_flow": null,
            "width": null,
            "min_width": null,
            "border": null,
            "align_items": null,
            "bottom": null,
            "_model_module": "@jupyter-widgets/base",
            "top": null,
            "grid_column": null,
            "overflow_y": null,
            "overflow_x": null,
            "grid_auto_flow": null,
            "grid_area": null,
            "grid_template_columns": null,
            "flex": null,
            "_model_name": "LayoutModel",
            "justify_items": null,
            "grid_row": null,
            "max_height": null,
            "align_content": null,
            "visibility": null,
            "align_self": null,
            "height": null,
            "min_height": null,
            "padding": null,
            "grid_auto_rows": null,
            "grid_gap": null,
            "max_width": null,
            "order": null,
            "_view_module_version": "1.2.0",
            "grid_template_areas": null,
            "object_position": null,
            "object_fit": null,
            "grid_auto_columns": null,
            "margin": null,
            "display": null,
            "left": null
          }
        },
        "5459d44801044476a9ca8e1f7c03fbd6": {
          "model_module": "@jupyter-widgets/controls",
          "model_name": "SliderStyleModel",
          "model_module_version": "1.5.0",
          "state": {
            "_view_name": "StyleView",
            "handle_color": null,
            "_model_name": "SliderStyleModel",
            "description_width": "",
            "_view_module": "@jupyter-widgets/base",
            "_model_module_version": "1.5.0",
            "_view_count": null,
            "_view_module_version": "1.2.0",
            "_model_module": "@jupyter-widgets/controls"
          }
        },
        "8e47339093524463bd16c3ee833b9872": {
          "model_module": "@jupyter-widgets/base",
          "model_name": "LayoutModel",
          "model_module_version": "1.2.0",
          "state": {
            "_view_name": "LayoutView",
            "grid_template_rows": null,
            "right": null,
            "justify_content": null,
            "_view_module": "@jupyter-widgets/base",
            "overflow": null,
            "_model_module_version": "1.2.0",
            "_view_count": null,
            "flex_flow": null,
            "width": null,
            "min_width": null,
            "border": null,
            "align_items": null,
            "bottom": null,
            "_model_module": "@jupyter-widgets/base",
            "top": null,
            "grid_column": null,
            "overflow_y": null,
            "overflow_x": null,
            "grid_auto_flow": null,
            "grid_area": null,
            "grid_template_columns": null,
            "flex": null,
            "_model_name": "LayoutModel",
            "justify_items": null,
            "grid_row": null,
            "max_height": null,
            "align_content": null,
            "visibility": null,
            "align_self": null,
            "height": null,
            "min_height": null,
            "padding": null,
            "grid_auto_rows": null,
            "grid_gap": null,
            "max_width": null,
            "order": null,
            "_view_module_version": "1.2.0",
            "grid_template_areas": null,
            "object_position": null,
            "object_fit": null,
            "grid_auto_columns": null,
            "margin": null,
            "display": null,
            "left": null
          }
        },
        "34cd1b20bc434c06b45c1366b8188c5f": {
          "model_module": "@jupyter-widgets/base",
          "model_name": "LayoutModel",
          "model_module_version": "1.2.0",
          "state": {
            "_view_name": "LayoutView",
            "grid_template_rows": null,
            "right": null,
            "justify_content": null,
            "_view_module": "@jupyter-widgets/base",
            "overflow": null,
            "_model_module_version": "1.2.0",
            "_view_count": null,
            "flex_flow": null,
            "width": null,
            "min_width": null,
            "border": null,
            "align_items": null,
            "bottom": null,
            "_model_module": "@jupyter-widgets/base",
            "top": null,
            "grid_column": null,
            "overflow_y": null,
            "overflow_x": null,
            "grid_auto_flow": null,
            "grid_area": null,
            "grid_template_columns": null,
            "flex": null,
            "_model_name": "LayoutModel",
            "justify_items": null,
            "grid_row": null,
            "max_height": null,
            "align_content": null,
            "visibility": null,
            "align_self": null,
            "height": null,
            "min_height": null,
            "padding": null,
            "grid_auto_rows": null,
            "grid_gap": null,
            "max_width": null,
            "order": null,
            "_view_module_version": "1.2.0",
            "grid_template_areas": null,
            "object_position": null,
            "object_fit": null,
            "grid_auto_columns": null,
            "margin": null,
            "display": null,
            "left": null
          }
        }
      }
    }
  },
  "nbformat": 4,
  "nbformat_minor": 0
}